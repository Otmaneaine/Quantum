{
  "cells": [
    {
      "cell_type": "markdown",
      "source": [
        "## Notebook for Calculating the Dirac Notation of EPR Pair Tensor Products\n",
        "\n",
        "---\n",
        "\n",
        "This specialized Jupyter Notebook is designed for the precise calculation of the Dirac notation representing the tensor product of EPR (Einstein-Podolsky-Rosen) pairs for **Entanglement Swapping** analysis purposes. It serves as an essential resource for those aiming to precisely compute and visualize the Dirac notation resulting from the tensor product of EPR pairs, facilitating a deeper understanding of quantum entanglement in quantum mechanics."
      ],
      "metadata": {
        "id": "6NKXL3uLxqQB"
      },
      "id": "6NKXL3uLxqQB"
    },
    {
      "cell_type": "code",
      "execution_count": 1,
      "id": "ad4ec2d3",
      "metadata": {
        "id": "ad4ec2d3"
      },
      "outputs": [],
      "source": [
        "import math as m\n",
        "from IPython.display import Latex\n",
        "import numpy as np\n",
        "import sympy as sp\n",
        "import sympy.physics.quantum as qp"
      ]
    },
    {
      "cell_type": "code",
      "execution_count": 8,
      "id": "0be3eca6",
      "metadata": {
        "id": "0be3eca6",
        "cellView": "form"
      },
      "outputs": [],
      "source": [
        "# @title\n",
        "# The generation of a Bell state in the z-basis\n",
        "class EPR:\n",
        "    \"\"\"A class that generates a EPR state\n",
        "        args : i,j  : are indices for each particle\n",
        "               state: is the EPR state desired to be build\n",
        "               state = 'phi_m'\n",
        "                       'phi_p'\n",
        "                       'psi_m'\n",
        "                       'psi_p'\n",
        "         initializing\n",
        "         state_out   : the Dirac notaion of the state\n",
        "         state_out_M : the Matrix notaion of the state\n",
        "    \"\"\"\n",
        "    def __init__(self,i,j,state):\n",
        "        \"\"\" self.zero1,2 are self.zeroi,j\n",
        "\n",
        "        \"\"\"\n",
        "        self.zero1 = sp.symbols('zero'+str(i))\n",
        "        self.zero2 = sp.symbols('zero'+str(j))\n",
        "        self.one1 = sp.symbols('one'+str(i))\n",
        "        self.one2 = sp.symbols('one'+str(j))\n",
        "        state_out_M = [[sp.symbols('0')]*4 for i in range(4)]\n",
        "        if state == 'phi_m':\n",
        "            state_out = 1/sp.sqrt(2)*(self.zero1*self.zero2 - self.one1*self.one2)\n",
        "            state_out_M[1][1], state_out_M[2][2] = self.zero1*self.zero2, - self.one1*self.one2\n",
        "            state_out_M = sp.Matrix(state_out_M)\n",
        "        elif state == 'phi_p':\n",
        "            state_out = 1/sp.sqrt(2)*(self.zero1*self.zero2 + self.one1*self.one2)\n",
        "            state_out_M[1][1], state_out_M[2][2] = self.zero1*self.zero2, + self.one1*self.one2\n",
        "            state_out_M = sp.Matrix(state_out_M)\n",
        "        elif state == 'psi_m':\n",
        "            state_out = 1/sp.sqrt(2)*(self.zero1*self.one2 - self.one1*self.zero2)\n",
        "            state_out_M[0][0], state_out_M[3][3] = self.zero1*self.one2, -self.one1*self.zero2\n",
        "            state_out_M = sp.Matrix(state_out_M)\n",
        "        elif state == 'psi_p':\n",
        "            state_out = 1/sp.sqrt(2)*(self.zero1*self.one2 + self.one1*self.zero2)\n",
        "            state_out_M[0][0], state_out_M[3][3] = self.zero1*self.one2, self.one1*self.zero2\n",
        "            state_out_M = sp.Matrix(state_out_M)\n",
        "\n",
        "\n",
        "\n",
        "        self.state = state_out\n",
        "        self.state_M = state_out_M\n"
      ]
    },
    {
      "cell_type": "code",
      "execution_count": 3,
      "id": "0e02917d",
      "metadata": {
        "id": "0e02917d",
        "cellView": "form"
      },
      "outputs": [],
      "source": [
        "# @title\n",
        "def outcomes(state1, state2):\n",
        "    \"\"\" Function that calculates all the possible outcomes of the tensor product of\n",
        "        the two states\n",
        "        args : state1 and state2\n",
        "        return possible_outcomes; all the possible outcomes\n",
        "               z_basis_to_Bell_basis; how to go from z-basis to Bell-basis\"\"\"\n",
        "\n",
        "    state_1_a = [state1.zero1,state1.one1]\n",
        "    state_1_b = [state1.zero2,state1.one2]\n",
        "    state_2_a = [state2.zero1,state2.one1]\n",
        "    state_2_b = [state2.zero2,state2.one2]\n",
        "    possible_outcomes = []\n",
        "    for elm1a in state_1_a:\n",
        "        for elm2a in state_2_a:\n",
        "            for elm1b in state_1_b:\n",
        "                for elm2b in state_2_b:\n",
        "                    possible_outcomes.append(elm1a*elm1b*elm2a*elm2b)\n",
        "\n",
        "    #EPR_states ϕ_m/p Ψ_m/p\n",
        "    i, k = sorted([str(state1.zero1)[-1], str(state2.zero1)[-1]])\n",
        "    ϕ_minus13 = sp.symbols(\"ϕ_m\"+i+k)\n",
        "    ϕ_plus13 = sp.symbols(\"ϕ_p\"+i+k)\n",
        "    ψ_minus13 = sp.symbols(\"ψ_m\"+i+k)\n",
        "    ψ_plus13 = sp.symbols(\"ψ_p\"+i+k)\n",
        "\n",
        "    ϕ_minus13 = qp.Ket(ϕ_minus13)\n",
        "    ϕ_plus13  = qp.Ket(ϕ_plus13)\n",
        "    ψ_minus13 = qp.Ket(ψ_minus13)\n",
        "    ψ_plus13  = qp.Ket(ψ_plus13)\n",
        "\n",
        "    j,l = sorted([str(state1.one2)[-1], str(state2.one2)[-1]])\n",
        "    ϕ_minus24 = sp.symbols(\"ϕ_m\"+j+l)\n",
        "    ϕ_plus24 = sp.symbols(\"ϕ_p\"+j+l)\n",
        "    ψ_minus24 = sp.symbols(\"ψ_m\"+j+l)\n",
        "    ψ_plus24 = sp.symbols(\"ψ_p\"+j+l)\n",
        "\n",
        "    ϕ_minus24 = qp.Ket(ϕ_minus24)\n",
        "    ϕ_plus24  = qp.Ket(ϕ_plus24)\n",
        "    ψ_minus24 = qp.Ket(ψ_minus24 )\n",
        "    ψ_plus24  = qp.Ket(ψ_plus24)\n",
        "\n",
        "    # from z-basis to Bell basis\n",
        "    sqr2 =  1/sp.sqrt(2)\n",
        "    zero_zero13 = sqr2*(ϕ_plus13 + ϕ_minus13)\n",
        "    zero_one13  = sqr2*(ψ_plus13 + ψ_minus13)\n",
        "    one_zero13  = sqr2*(ψ_plus13 - ψ_minus13)\n",
        "    one_one13   = sqr2*(ϕ_plus13 - ϕ_minus13)\n",
        "\n",
        "    zero_zero24 = sqr2*(ϕ_plus24 + ϕ_minus24)\n",
        "    zero_one24  = sqr2*(ψ_plus24 + ψ_minus24)\n",
        "    one_zero24  = sqr2*(ψ_plus24 - ψ_minus24)\n",
        "    one_one24   = sqr2*(ϕ_plus24 - ϕ_minus24)\n",
        "\n",
        "    #z_basis_to_Bell_basis\n",
        "    z_basis_to_Bell_basis = [zero_zero13*zero_zero24, zero_zero13*zero_one24,\n",
        "                             zero_zero13*one_zero24, zero_zero13*one_one24,\n",
        "\n",
        "                             zero_one13*zero_zero24, zero_one13*zero_one24,\n",
        "                             zero_one13*one_zero24, zero_one13*one_one24,\n",
        "\n",
        "                             one_zero13*zero_zero24, one_zero13*zero_one24,\n",
        "                             one_zero13*one_zero24, one_zero13*one_one24,\n",
        "\n",
        "                             one_one13*zero_zero24, one_one13*zero_one24,\n",
        "                             one_one13*one_zero24, one_one13*one_one24]\n",
        "\n",
        "    return possible_outcomes, z_basis_to_Bell_basis\n",
        "\n",
        "\n",
        "\n"
      ]
    },
    {
      "cell_type": "code",
      "execution_count": 10,
      "id": "80b75b55",
      "metadata": {
        "id": "80b75b55",
        "cellView": "form"
      },
      "outputs": [],
      "source": [
        "# @title\n",
        "def TensorPt(state1,state2):\n",
        "    \"\"\"Function that calculates the Tensor Product of two EPR states\n",
        "       args: state1 and state2\n",
        "            \"\"\"\n",
        "    tp = qp.tensorproduct.TensorProduct(state1.state_M, state2.state_M)\n",
        "    elim = '0' # element that we will be omitted from the tp\n",
        "    result_of_tp = []\n",
        "    for elem in tp:\n",
        "        if str(elem)[0] != elim:\n",
        "            if str(elem)[0] == '-':\n",
        "                if str(elem)[1] != '0':\n",
        "                    result_of_tp.append(elem)\n",
        "            if str(elem)[0] == 'z' or str(elem)[0] == 'o':\n",
        "                result_of_tp.append(elem)\n",
        "\n",
        "    for i in range(len(result_of_tp)):\n",
        "        possible_outcomes, z_basis_to_Bell_basis = outcomes(state1,state2)\n",
        "        for j, items in enumerate(zip(possible_outcomes, z_basis_to_Bell_basis)):\n",
        "            if abs(items[0]) == abs(result_of_tp[i]):\n",
        "                #(result_of_tp[i]/items[0]) to get the sign of \"result_of_tp[i]\"\n",
        "                result_of_tp[i] = 1/sp.sqrt(2)*(result_of_tp[i]/items[0])*items[1]\n",
        "    x = sum(result_of_tp).simplify()\n",
        "    return x\n",
        "\n",
        "\n"
      ]
    },
    {
      "cell_type": "code",
      "execution_count": 11,
      "id": "0e4d0f0e",
      "metadata": {
        "colab": {
          "base_uri": "https://localhost:8080/",
          "height": 55
        },
        "id": "0e4d0f0e",
        "outputId": "3c7aee25-66fd-4ef0-c3a4-25f1b60427b9"
      },
      "outputs": [
        {
          "output_type": "execute_result",
          "data": {
            "text/plain": [
              "sqrt(2)*(|ψ_m13>*|ψ_p24> - |ψ_p13>*|ψ_m24> + |ϕ_m13>*|ϕ_p24> - |ϕ_p13>*|ϕ_m24>)/2"
            ],
            "text/latex": "$\\displaystyle \\frac{\\sqrt{2} \\left({\\left|ψ_{m13}\\right\\rangle } {\\left|ψ_{p24}\\right\\rangle } - {\\left|ψ_{p13}\\right\\rangle } {\\left|ψ_{m24}\\right\\rangle } + {\\left|ϕ_{m13}\\right\\rangle } {\\left|ϕ_{p24}\\right\\rangle } - {\\left|ϕ_{p13}\\right\\rangle } {\\left|ϕ_{m24}\\right\\rangle }\\right)}{2}$"
          },
          "metadata": {},
          "execution_count": 11
        }
      ],
      "source": [
        "\"\"\"\n",
        "  play with diffrent states to observe the Entanglement Swapping effect\n",
        "  Possible Values\n",
        "  state = 'phi_m'\n",
        "          'phi_p'\n",
        "          'psi_m'\n",
        "          'psi_p'\n",
        "\n",
        "\"\"\"\n",
        "psi_m1 = EPR(1,2,'psi_m')\n",
        "#psi_m.state\n",
        "psi_m2 = EPR(3,4,'psi_p')\n",
        "#psi_m.state\n",
        "TensorPt(psi_m1,psi_m2)\n"
      ]
    }
  ],
  "metadata": {
    "kernelspec": {
      "display_name": "Qiskit(stable)",
      "language": "python",
      "name": "qiskit-stable"
    },
    "language_info": {
      "codemirror_mode": {
        "name": "ipython",
        "version": 3
      },
      "file_extension": ".py",
      "mimetype": "text/x-python",
      "name": "python",
      "nbconvert_exporter": "python",
      "pygments_lexer": "ipython3",
      "version": "3.9.16"
    },
    "colab": {
      "provenance": []
    }
  },
  "nbformat": 4,
  "nbformat_minor": 5
}